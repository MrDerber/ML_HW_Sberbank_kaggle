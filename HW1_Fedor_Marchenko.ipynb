{
 "cells": [
  {
   "cell_type": "code",
   "execution_count": 31,
   "id": "f6d74948",
   "metadata": {},
   "outputs": [],
   "source": [
    "import pandas as pd\n",
    "import matplotlib.pyplot as plt\n",
    "from sklearn.model_selection import KFold\n",
    "from sklearn.metrics import mean_squared_error, mean_squared_log_error\n",
    "from sklearn.linear_model import SGDRegressor\n",
    "from sklearn.preprocessing import StandardScaler\n",
    "import numpy as np"
   ]
  },
  {
   "cell_type": "code",
   "execution_count": 2,
   "id": "66cd314d",
   "metadata": {},
   "outputs": [],
   "source": [
    "train = pd.read_csv('train.csv')\n",
    "test  = pd.read_csv('test.csv')"
   ]
  },
  {
   "cell_type": "code",
   "execution_count": 3,
   "id": "f0a83a2f",
   "metadata": {},
   "outputs": [],
   "source": [
    "#Функция кросс-валидации\n",
    "def cross_validation(model, train, features, target='price_doc'):\n",
    "    msle_list = []\n",
    "    #mse_list = []\n",
    "\n",
    "    kf = KFold(n_splits=5, shuffle = True)\n",
    "    for i, (train_index, val_index) in enumerate(kf.split(train)):\n",
    "        train_part = train.loc[train_index, : ]\n",
    "        val_part = train.loc[val_index,:  ]\n",
    "\n",
    "        #model = SGDRegressor()\n",
    "        #model.fit( X=train_part[features], y = target ) #model.fit( X=features.fillna(0), y = target )\n",
    "        #val_prediction = model.predict( val_part[features].fillna(0) ).clip( 0, 1000000000)\n",
    "        model.fit( X=train_part[features], y = train_part[target] )\n",
    "        val_prediction = model.predict( val_part[features].fillna(0) ).clip( 0, 1000000000)\n",
    "\n",
    "\n",
    "        #mse = mean_squared_error(val_prediction,  val_part[target]  )\n",
    "        msle = mean_squared_log_error(val_prediction,  val_part[target]  )\n",
    "\n",
    "\n",
    "        msle_list.append(msle)\n",
    "        #mse_list.append(mse)\n",
    "        print( f'Fold {i}: msle {msle}')\n",
    "\n",
    "\n",
    "\n",
    "    print( f'MSLE average = {np.mean(msle_list)} , std ={np.std(msle_list)}  '  )\n",
    "\n",
    "#Функция для создания csv файла для сабмишшна\n",
    "def prepare_submission(submission_name, model, train, test, features, target='price_doc'):\n",
    "    model.fit( X=train[features].fillna(0), y = train[target] )\n",
    "    test_prediction = model.predict( test[features].fillna(0) )\n",
    "    sample_submission = pd.read_csv('sample_submission.csv')\n",
    "    sample_submission['price_doc']= test_prediction\n",
    "    sample_submission['price_doc'] = sample_submission['price_doc'].clip( 1, 1000000000) \n",
    "    sample_submission.to_csv(submission_name, index = False)"
   ]
  },
  {
   "cell_type": "code",
   "execution_count": null,
   "id": "833f37f5",
   "metadata": {},
   "outputs": [],
   "source": [
    "#В первой модели будут использованы  непрерывные признаки   ['metro_km_walk', 'kremlin_km', 'full_sq'] с заполненными пропусками"
   ]
  },
  {
   "cell_type": "code",
   "execution_count": 4,
   "id": "27131158",
   "metadata": {},
   "outputs": [
    {
     "name": "stdout",
     "output_type": "stream",
     "text": [
      "price_doc         0\n",
      "metro_km_walk    25\n",
      "kremlin_km        0\n",
      "full_sq           0\n",
      "dtype: int64\n",
      "metro_km_walk    34\n",
      "kremlin_km        0\n",
      "full_sq           0\n",
      "dtype: int64\n"
     ]
    }
   ],
   "source": [
    "#Смотрю кол-во пропусков\n",
    "print(train[['price_doc','metro_km_walk','kremlin_km', 'full_sq']].isna().sum())\n",
    "print(test[['metro_km_walk','kremlin_km', 'full_sq']].isna().sum())"
   ]
  },
  {
   "cell_type": "code",
   "execution_count": 5,
   "id": "31752469",
   "metadata": {},
   "outputs": [
    {
     "name": "stdout",
     "output_type": "stream",
     "text": [
      "1.703934087\n",
      "3.561466753071809\n"
     ]
    }
   ],
   "source": [
    "print(train['metro_km_walk'].median())\n",
    "print(train['metro_km_walk'].mean())\n",
    "#сравниваю значения среднего и меидианы, они сильно отличаются, поэтому беру медианное значение"
   ]
  },
  {
   "cell_type": "code",
   "execution_count": 6,
   "id": "0506ab3f",
   "metadata": {},
   "outputs": [],
   "source": [
    "#Заменяю пропуски фичи 'metro_km_walk' на медианные значения \n",
    "train['metro_km_walk'] = train['metro_km_walk'].fillna(train['metro_km_walk'].median()).clip( 0, 1000000000)\n",
    "test['metro_km_walk'] = test['metro_km_walk'].fillna(test['metro_km_walk'].median()).clip( 0, 1000000000)"
   ]
  },
  {
   "cell_type": "code",
   "execution_count": 7,
   "id": "9f424ad3",
   "metadata": {},
   "outputs": [
    {
     "name": "stdout",
     "output_type": "stream",
     "text": [
      "Fold 0: msle 25.92463323895243\n",
      "Fold 1: msle 0.6743981568692863\n",
      "Fold 2: msle 109.94948242183445\n",
      "Fold 3: msle 9.464134941840475\n",
      "Fold 4: msle 118.09364408350412\n",
      "MSLE average = 52.82125856860015 , std =50.68862189000921  \n"
     ]
    }
   ],
   "source": [
    "cross_validation(model=SGDRegressor(), train=train, features=['metro_km_walk','kremlin_km', 'full_sq'])\n",
    "#MSLE average = 52.8"
   ]
  },
  {
   "cell_type": "code",
   "execution_count": 9,
   "id": "2a8ed991",
   "metadata": {},
   "outputs": [],
   "source": [
    "features = ['metro_km_walk', 'kremlin_km', 'full_sq']\n",
    "\n",
    "prepare_submission(submission_name='predict1.csv', model=SGDRegressor(), train=train, test=test, features=features)\n",
    "#score on kaggle predict1.csv: 9.61487"
   ]
  },
  {
   "cell_type": "code",
   "execution_count": 10,
   "id": "8593dc46",
   "metadata": {},
   "outputs": [],
   "source": [
    "#Во второй модели нормирую признаки из первой модели (std=1, mean = 0)\n",
    "\n",
    "features = ['metro_km_walk', 'kremlin_km', 'full_sq']\n",
    "StandScaler = StandardScaler()\n",
    "\n",
    "StandScaler.fit(train[features])\n",
    "train[features] = StandScaler.transform(train[features])\n",
    "test[features] = StandScaler.transform(test[features])"
   ]
  },
  {
   "cell_type": "code",
   "execution_count": 11,
   "id": "05620be7",
   "metadata": {},
   "outputs": [
    {
     "name": "stdout",
     "output_type": "stream",
     "text": [
      "Fold 0: msle 0.3020659104483603\n",
      "Fold 1: msle 0.3684036173557443\n",
      "Fold 2: msle 42.30974321656227\n",
      "Fold 3: msle 0.7020164984369287\n",
      "Fold 4: msle 1.4165333128188315\n",
      "MSLE average = 9.019752511124427 , std =16.64969100657246  \n"
     ]
    }
   ],
   "source": [
    "cross_validation(model=SGDRegressor(), train=train, features=['metro_km_walk','kremlin_km', 'full_sq'])\n",
    "#MSLE average = 9.0"
   ]
  },
  {
   "cell_type": "code",
   "execution_count": 12,
   "id": "882be9eb",
   "metadata": {},
   "outputs": [],
   "source": [
    "features = ['metro_km_walk', 'kremlin_km', 'full_sq']\n",
    "\n",
    "prepare_submission(submission_name='predict2.csv', model=SGDRegressor(), train=train, test=test, features=features)\n",
    "#score on kaggle predict2.csv: 0.45086\n",
    "#при нормировании стало значительно лучше\n"
   ]
  },
  {
   "cell_type": "code",
   "execution_count": null,
   "id": "603e93e4",
   "metadata": {},
   "outputs": [],
   "source": [
    "#В модель 3 добавлю категориальные признаки ['product_type' , 'material']"
   ]
  },
  {
   "cell_type": "code",
   "execution_count": 13,
   "id": "0c852615",
   "metadata": {},
   "outputs": [
    {
     "data": {
      "text/plain": [
       "Investment       19448\n",
       "OwnerOccupier    11023\n",
       "Name: product_type, dtype: int64"
      ]
     },
     "execution_count": 13,
     "metadata": {},
     "output_type": "execute_result"
    }
   ],
   "source": [
    "train['product_type'].value_counts()"
   ]
  },
  {
   "cell_type": "code",
   "execution_count": 14,
   "id": "7628e609",
   "metadata": {},
   "outputs": [],
   "source": [
    "train['product_type'] = train['product_type'].replace( { 'Investment':1,'OwnerOccupier':0  })\n",
    "test['product_type'] = test['product_type'].replace( { 'Investment':1,'OwnerOccupier':0  })"
   ]
  },
  {
   "cell_type": "code",
   "execution_count": 15,
   "id": "85203486",
   "metadata": {},
   "outputs": [
    {
     "name": "stdout",
     "output_type": "stream",
     "text": [
      "9572\n",
      "0\n"
     ]
    }
   ],
   "source": [
    "print(train['material'].isna().sum())\n",
    "print(test['material'].isna().sum())"
   ]
  },
  {
   "cell_type": "code",
   "execution_count": 16,
   "id": "b97a8609",
   "metadata": {},
   "outputs": [],
   "source": [
    "train['material'] = train['material'].fillna(0)"
   ]
  },
  {
   "cell_type": "code",
   "execution_count": 17,
   "id": "72fab0e7",
   "metadata": {},
   "outputs": [
    {
     "data": {
      "text/plain": [
       "1.0    14197\n",
       "0.0     9572\n",
       "2.0     2993\n",
       "5.0     1561\n",
       "4.0     1344\n",
       "6.0      803\n",
       "3.0        1\n",
       "Name: material, dtype: int64"
      ]
     },
     "execution_count": 17,
     "metadata": {},
     "output_type": "execute_result"
    }
   ],
   "source": [
    "train['material'].value_counts()"
   ]
  },
  {
   "cell_type": "code",
   "execution_count": 18,
   "id": "795c4f72",
   "metadata": {},
   "outputs": [
    {
     "data": {
      "text/plain": [
       "1    5241\n",
       "2     958\n",
       "4     619\n",
       "5     487\n",
       "6     356\n",
       "3       1\n",
       "Name: material, dtype: int64"
      ]
     },
     "execution_count": 18,
     "metadata": {},
     "output_type": "execute_result"
    }
   ],
   "source": [
    "test['material'].value_counts()"
   ]
  },
  {
   "cell_type": "code",
   "execution_count": 19,
   "id": "8d751b51",
   "metadata": {},
   "outputs": [
    {
     "name": "stdout",
     "output_type": "stream",
     "text": [
      "Fold 0: msle 14.218205527900002\n",
      "Fold 1: msle 1.1885589122072397\n",
      "Fold 2: msle 0.67734283173453\n",
      "Fold 3: msle 0.35617598746852824\n",
      "Fold 4: msle 0.4496832005002068\n",
      "MSLE average = 3.3779932919621016 , std =5.427775178565378  \n"
     ]
    }
   ],
   "source": [
    "features=['metro_km_walk','kremlin_km', 'full_sq', 'product_type', 'material']\n",
    "cross_validation(model=SGDRegressor(), train=train, features=features)\n",
    "#MSLE average = 3.4"
   ]
  },
  {
   "cell_type": "code",
   "execution_count": 20,
   "id": "05a6ea56",
   "metadata": {},
   "outputs": [],
   "source": [
    "features = ['metro_km_walk', 'kremlin_km', 'full_sq', 'product_type', 'material']\n",
    "\n",
    "prepare_submission(submission_name='predict3.csv', model=SGDRegressor(), train=train, test=test, features=features)\n",
    "#score on kaggle predict3.csv: 0.40167\n",
    "#при добавлении категориальных фичей ['product_type', 'material'] стало немного лучше"
   ]
  },
  {
   "cell_type": "code",
   "execution_count": null,
   "id": "0f38bed6",
   "metadata": {},
   "outputs": [],
   "source": [
    "#В модель 4 добавлю фичи год и месяц"
   ]
  },
  {
   "cell_type": "code",
   "execution_count": 21,
   "id": "4b47bbbf",
   "metadata": {},
   "outputs": [],
   "source": [
    "train['month'] = pd.to_datetime(train['timestamp']).dt.month\n",
    "train['year'] = pd.to_datetime(train['timestamp']).dt.year\n",
    "test['month'] = pd.to_datetime(test['timestamp']).dt.month\n",
    "test['year'] = pd.to_datetime(test['timestamp']).dt.year"
   ]
  },
  {
   "cell_type": "code",
   "execution_count": 127,
   "id": "e463ca02",
   "metadata": {},
   "outputs": [
    {
     "data": {
      "text/html": [
       "<div>\n",
       "<style scoped>\n",
       "    .dataframe tbody tr th:only-of-type {\n",
       "        vertical-align: middle;\n",
       "    }\n",
       "\n",
       "    .dataframe tbody tr th {\n",
       "        vertical-align: top;\n",
       "    }\n",
       "\n",
       "    .dataframe thead th {\n",
       "        text-align: right;\n",
       "    }\n",
       "</style>\n",
       "<table border=\"1\" class=\"dataframe\">\n",
       "  <thead>\n",
       "    <tr style=\"text-align: right;\">\n",
       "      <th></th>\n",
       "      <th>metro_km_walk</th>\n",
       "      <th>kremlin_km</th>\n",
       "      <th>full_sq</th>\n",
       "      <th>product_type</th>\n",
       "      <th>material</th>\n",
       "      <th>month</th>\n",
       "      <th>year</th>\n",
       "    </tr>\n",
       "  </thead>\n",
       "  <tbody>\n",
       "    <tr>\n",
       "      <th>0</th>\n",
       "      <td>-0.420694</td>\n",
       "      <td>-0.105261</td>\n",
       "      <td>-0.294873</td>\n",
       "      <td>1</td>\n",
       "      <td>0.0</td>\n",
       "      <td>8</td>\n",
       "      <td>2011</td>\n",
       "    </tr>\n",
       "    <tr>\n",
       "      <th>1</th>\n",
       "      <td>-0.506646</td>\n",
       "      <td>-0.870280</td>\n",
       "      <td>-0.531523</td>\n",
       "      <td>1</td>\n",
       "      <td>0.0</td>\n",
       "      <td>8</td>\n",
       "      <td>2011</td>\n",
       "    </tr>\n",
       "    <tr>\n",
       "      <th>2</th>\n",
       "      <td>-0.366182</td>\n",
       "      <td>-0.826471</td>\n",
       "      <td>-0.294873</td>\n",
       "      <td>1</td>\n",
       "      <td>0.0</td>\n",
       "      <td>8</td>\n",
       "      <td>2011</td>\n",
       "    </tr>\n",
       "    <tr>\n",
       "      <th>3</th>\n",
       "      <td>-0.449701</td>\n",
       "      <td>0.407755</td>\n",
       "      <td>0.914671</td>\n",
       "      <td>1</td>\n",
       "      <td>0.0</td>\n",
       "      <td>9</td>\n",
       "      <td>2011</td>\n",
       "    </tr>\n",
       "    <tr>\n",
       "      <th>4</th>\n",
       "      <td>-0.497326</td>\n",
       "      <td>-1.595169</td>\n",
       "      <td>0.599138</td>\n",
       "      <td>1</td>\n",
       "      <td>0.0</td>\n",
       "      <td>9</td>\n",
       "      <td>2011</td>\n",
       "    </tr>\n",
       "    <tr>\n",
       "      <th>...</th>\n",
       "      <td>...</td>\n",
       "      <td>...</td>\n",
       "      <td>...</td>\n",
       "      <td>...</td>\n",
       "      <td>...</td>\n",
       "      <td>...</td>\n",
       "      <td>...</td>\n",
       "    </tr>\n",
       "    <tr>\n",
       "      <th>30466</th>\n",
       "      <td>-0.498888</td>\n",
       "      <td>-0.408148</td>\n",
       "      <td>-0.268578</td>\n",
       "      <td>1</td>\n",
       "      <td>1.0</td>\n",
       "      <td>6</td>\n",
       "      <td>2015</td>\n",
       "    </tr>\n",
       "    <tr>\n",
       "      <th>30467</th>\n",
       "      <td>-0.481328</td>\n",
       "      <td>-1.513360</td>\n",
       "      <td>0.835788</td>\n",
       "      <td>1</td>\n",
       "      <td>2.0</td>\n",
       "      <td>6</td>\n",
       "      <td>2015</td>\n",
       "    </tr>\n",
       "    <tr>\n",
       "      <th>30468</th>\n",
       "      <td>-0.318326</td>\n",
       "      <td>0.694279</td>\n",
       "      <td>-0.242284</td>\n",
       "      <td>0</td>\n",
       "      <td>1.0</td>\n",
       "      <td>6</td>\n",
       "      <td>2015</td>\n",
       "    </tr>\n",
       "    <tr>\n",
       "      <th>30469</th>\n",
       "      <td>-0.262016</td>\n",
       "      <td>-0.286933</td>\n",
       "      <td>0.257310</td>\n",
       "      <td>1</td>\n",
       "      <td>1.0</td>\n",
       "      <td>6</td>\n",
       "      <td>2015</td>\n",
       "    </tr>\n",
       "    <tr>\n",
       "      <th>30470</th>\n",
       "      <td>-0.537896</td>\n",
       "      <td>-0.501336</td>\n",
       "      <td>-0.294873</td>\n",
       "      <td>1</td>\n",
       "      <td>1.0</td>\n",
       "      <td>6</td>\n",
       "      <td>2015</td>\n",
       "    </tr>\n",
       "  </tbody>\n",
       "</table>\n",
       "<p>30471 rows × 7 columns</p>\n",
       "</div>"
      ],
      "text/plain": [
       "       metro_km_walk  kremlin_km   full_sq  product_type  material  month  \\\n",
       "0          -0.420694   -0.105261 -0.294873             1       0.0      8   \n",
       "1          -0.506646   -0.870280 -0.531523             1       0.0      8   \n",
       "2          -0.366182   -0.826471 -0.294873             1       0.0      8   \n",
       "3          -0.449701    0.407755  0.914671             1       0.0      9   \n",
       "4          -0.497326   -1.595169  0.599138             1       0.0      9   \n",
       "...              ...         ...       ...           ...       ...    ...   \n",
       "30466      -0.498888   -0.408148 -0.268578             1       1.0      6   \n",
       "30467      -0.481328   -1.513360  0.835788             1       2.0      6   \n",
       "30468      -0.318326    0.694279 -0.242284             0       1.0      6   \n",
       "30469      -0.262016   -0.286933  0.257310             1       1.0      6   \n",
       "30470      -0.537896   -0.501336 -0.294873             1       1.0      6   \n",
       "\n",
       "       year  \n",
       "0      2011  \n",
       "1      2011  \n",
       "2      2011  \n",
       "3      2011  \n",
       "4      2011  \n",
       "...     ...  \n",
       "30466  2015  \n",
       "30467  2015  \n",
       "30468  2015  \n",
       "30469  2015  \n",
       "30470  2015  \n",
       "\n",
       "[30471 rows x 7 columns]"
      ]
     },
     "execution_count": 127,
     "metadata": {},
     "output_type": "execute_result"
    }
   ],
   "source": [
    "train[['metro_km_walk','kremlin_km', 'full_sq', 'product_type', 'material', 'month', 'year']]"
   ]
  },
  {
   "cell_type": "code",
   "execution_count": 22,
   "id": "03c68537",
   "metadata": {},
   "outputs": [],
   "source": [
    "features = ['month', 'year']\n",
    "StandScaler = StandardScaler()\n",
    "\n",
    "StandScaler.fit(train[features])\n",
    "train[features] = StandScaler.transform(train[features])\n",
    "test[features] = StandScaler.transform(test[features])"
   ]
  },
  {
   "cell_type": "code",
   "execution_count": 23,
   "id": "cee656ee",
   "metadata": {},
   "outputs": [
    {
     "name": "stdout",
     "output_type": "stream",
     "text": [
      "Fold 0: msle 0.6115000442207807\n",
      "Fold 1: msle 0.8073391647577653\n",
      "Fold 2: msle 2.5607038573622067\n",
      "Fold 3: msle 0.29278127578185575\n",
      "Fold 4: msle 0.718524720282402\n",
      "MSLE average = 0.9981698124810021 , std =0.8004020055580856  \n"
     ]
    }
   ],
   "source": [
    "features=['metro_km_walk','kremlin_km', 'full_sq', 'product_type', 'material', 'month', 'year']\n",
    "cross_validation(model=SGDRegressor(), train=train, features=features)\n",
    "#MSLE average = 1.0"
   ]
  },
  {
   "cell_type": "code",
   "execution_count": 24,
   "id": "2c6205ba",
   "metadata": {},
   "outputs": [],
   "source": [
    "features = ['metro_km_walk','kremlin_km', 'full_sq', 'product_type', 'material', 'month', 'year']\n",
    "\n",
    "prepare_submission(submission_name='predict4.csv', model=SGDRegressor(), train=train, test=test, features=features)\n",
    "#score on kaggle predict4.csv: 0.44560\n",
    "#при добавлении datetime фичей ['month', 'year'] результат на kaggle стал немного хуже, хотя результат на кросс-валидации стал лучше"
   ]
  },
  {
   "cell_type": "code",
   "execution_count": 25,
   "id": "dc0f8eb5",
   "metadata": {},
   "outputs": [
    {
     "name": "stdout",
     "output_type": "stream",
     "text": [
      "13605\n",
      "1049\n"
     ]
    }
   ],
   "source": [
    "#В модели 5 добавлю фичу 'build_year'\n",
    "print(train['build_year'].isna().sum())\n",
    "print(test['build_year'].isna().sum())"
   ]
  },
  {
   "cell_type": "code",
   "execution_count": 26,
   "id": "fb1c9c0e",
   "metadata": {},
   "outputs": [],
   "source": [
    "train['build_year'] = train['build_year'].fillna(train['build_year'].median()).clip( 0, 1000000000)\n",
    "test['build_year'] = test['build_year'].fillna(test['build_year'].median()).clip( 0, 1000000000)"
   ]
  },
  {
   "cell_type": "code",
   "execution_count": 27,
   "id": "f61825ff",
   "metadata": {},
   "outputs": [],
   "source": [
    "features = ['build_year']\n",
    "StandScaler = StandardScaler()\n",
    "\n",
    "StandScaler.fit(train[features])\n",
    "train[features] = StandScaler.transform(train[features])\n",
    "test[features] = StandScaler.transform(test[features])"
   ]
  },
  {
   "cell_type": "code",
   "execution_count": 28,
   "id": "69e4e156",
   "metadata": {},
   "outputs": [
    {
     "name": "stdout",
     "output_type": "stream",
     "text": [
      "Fold 0: msle 44.20371069492763\n",
      "Fold 1: msle 48.46403930505048\n",
      "Fold 2: msle 67.49668063824198\n",
      "Fold 3: msle 0.6737469111357118\n",
      "Fold 4: msle 63.05822324831575\n",
      "MSLE average = 44.77928015953431 , std =23.70403694836618  \n"
     ]
    }
   ],
   "source": [
    "features=['metro_km_walk','kremlin_km', 'full_sq', 'product_type', 'material', 'month', 'year', 'build_year']\n",
    "cross_validation(model=SGDRegressor(), train=train, features=features)\n",
    "#MSLE average = 44.8"
   ]
  },
  {
   "cell_type": "code",
   "execution_count": 29,
   "id": "05543733",
   "metadata": {},
   "outputs": [],
   "source": [
    "features = ['metro_km_walk','kremlin_km', 'full_sq', 'product_type', 'material', 'month', 'year', 'build_year']\n",
    "\n",
    "prepare_submission(submission_name='predict5.csv', model=SGDRegressor(), train=train, test=test, features=features)\n",
    "#score on kaggle predict5.csv: 4.49287\n",
    "#при добавлениия фичи 'build_year' результат стал ещё немного хуже и на кросс-валидации, и на kaggle"
   ]
  },
  {
   "cell_type": "code",
   "execution_count": 32,
   "id": "c035c9b9",
   "metadata": {},
   "outputs": [
    {
     "data": {
      "image/png": "[encoded data removed]",
      "text/plain": [
       "<Figure size 432x288 with 1 Axes>"
      ]
     },
     "metadata": {
      "needs_background": "light"
     },
     "output_type": "display_data"
    }
   ],
   "source": [
    "#График зависимоти \n",
    "plt.plot([52.8, 9.0, 3.4, 1.0, 44.8], [9.61, 0.45, 0.40, 0.45, 4.49], 'ro')\n",
    "plt.axis([0, 55, 0, 10])\n",
    "plt.xlabel('Score на кросс-валидации (mean MSLE)')\n",
    "plt.ylabel('Leader board score')\n",
    "plt.title('Зависимости Leader board score от score на кросс-валидации ')\n",
    "plt.show()"
   ]
  },
  {
   "cell_type": "code",
   "execution_count": null,
   "id": "980a8846",
   "metadata": {},
   "outputs": [],
   "source": [
    "'''\n",
    "Отчёт:\n",
    "\n",
    "1) Модель 1 с фичами ['metro_km_walk','kremlin_km', 'full_sq'] показала самый плохой результат: mean MSLE = 52.8 (std=50.7),\n",
    "score on kaggle = 9.6. \n",
    "2) Однако, простое нормирование (mean=0, std=1) признаков в модели 1 значительно снижает ошибку. Таким образом,\n",
    "в модели 2 показатели следующие: mean MSLE = 9.0 (std =16.7), score on kaggle=0.45. \n",
    "3) Далее в модель были добавлены категориальные фичи ['product_type' , 'material']. Благодаря ним удалось примерно в 3 раза\n",
    "сократить ошибку и стандартное отклонение на кросс-валидации. Показатели модели 3: mean MSLE=3.4 (std=5.4), score on kaggle=0.40. \n",
    "4) В модель 4 были добавлены нормированные фичи Год и Месяц. Их добавление в модель ещё снизило ошибку и стандартное отклонение на кросс-валидации (mean MSLE=1.0,std =0.8), однако \n",
    "немного ухудшило score на kaggle (0.45). \n",
    "5) В модель 5 была добавлена нормированная фича 'build_year', которая значительно увеличила ошибку и стандартно отклонение\n",
    "на кросс-валидации, а также ухудшило score на kaggle: mean MSLE=44.8 (std=23.7), score on kaggle=4.5\n",
    "    \n",
    "Выводы:\n",
    "- нормирование фичей значительно снижает ошибку\n",
    "- добавление всех фичей выше, кроме 'build_year', улучшало результат. Либо 'build_year' не влияет на предсказание target значения, \n",
    "    либо эту фичу необходимо ещё пробразовать, например сделать из неё категориальную фичу (период строительства сталинских домов, хрущёвок,\n",
    "    дома в современной Росии и т.п.)\n",
    "'''"
   ]
  }
 ],
 "metadata": {
  "kernelspec": {
   "display_name": "Python 3",
   "language": "python",
   "name": "python3"
  },
  "language_info": {
   "codemirror_mode": {
    "name": "ipython",
    "version": 3
   },
   "file_extension": ".py",
   "mimetype": "text/x-python",
   "name": "python",
   "nbconvert_exporter": "python",
   "pygments_lexer": "ipython3",
   "version": "3.8.8"
  }
 },
 "nbformat": 4,
 "nbformat_minor": 5
}
